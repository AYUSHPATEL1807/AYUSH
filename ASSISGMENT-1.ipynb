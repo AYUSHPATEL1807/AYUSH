{
 "cells": [
  {
   "cell_type": "code",
   "execution_count": 1,
   "id": "a07dcd2b",
   "metadata": {},
   "outputs": [
    {
     "name": "stdout",
     "output_type": "stream",
     "text": [
      "yes\n",
      "ayushing\n"
     ]
    }
   ],
   "source": [
    "#q5\n",
    "hi=\"ayush\"\n",
    "if len(hi)>2:\n",
    "    print(\"yes\")\n",
    "    if hi.endswith(\"ing\"):\n",
    "        hello=hi+\"ly\"\n",
    "        print(hello)\n",
    "    else:\n",
    "        hello=hi+\"ing\"\n",
    "        print(hello)\n",
    "else:\n",
    "    print(\"hi\")\n",
    "    "
   ]
  },
  {
   "cell_type": "code",
   "execution_count": 1,
   "id": "3577ba8a",
   "metadata": {},
   "outputs": [
    {
     "name": "stdout",
     "output_type": "stream",
     "text": [
      "650.0\n"
     ]
    }
   ],
   "source": [
    "#q1\n",
    "a=25\n",
    "a1=a*(a+1)/1\n",
    "print(a1)"
   ]
  },
  {
   "cell_type": "code",
   "execution_count": 2,
   "id": "0038ad4e",
   "metadata": {},
   "outputs": [
    {
     "name": "stdout",
     "output_type": "stream",
     "text": [
      "count string 2\n"
     ]
    }
   ],
   "source": [
    "#q2\n",
    "string=\"how are you\"\n",
    "substring='o'\n",
    "print(\"count string\",string.count(substring))"
   ]
  },
  {
   "cell_type": "code",
   "execution_count": 3,
   "id": "2e7e1ff0",
   "metadata": {},
   "outputs": [
    {
     "name": "stdout",
     "output_type": "stream",
     "text": [
      "3\n"
     ]
    }
   ],
   "source": [
    "#q3\n",
    "ht=\"hey how are you\"\n",
    "th=ht.count(\" \")\n",
    "print(th)"
   ]
  },
  {
   "cell_type": "code",
   "execution_count": 8,
   "id": "e2ef14f3",
   "metadata": {},
   "outputs": [
    {
     "name": "stdout",
     "output_type": "stream",
     "text": [
      "ayu\n",
      "pat\n",
      "patsh ayuel\n"
     ]
    }
   ],
   "source": [
    "#Q4\n",
    "a=\"ayush\"\n",
    "y=\"patel\"\n",
    "p=a[:3]\n",
    "b=y[:3]\n",
    "print(p)\n",
    "print(b)\n",
    "a=a.replace(p,b)\n",
    "y=y.replace(b,p)\n",
    "c= a+\" \"+y\n",
    "print(c)\n"
   ]
  },
  {
   "cell_type": "code",
   "execution_count": 5,
   "id": "3488f7b0",
   "metadata": {},
   "outputs": [
    {
     "name": "stdout",
     "output_type": "stream",
     "text": [
      "THE THRILL IS : RAC\n",
      "yes\n",
      "RACING\n"
     ]
    }
   ],
   "source": [
    "#Q6\n",
    "str=\"RAC\"\n",
    "print(\"THE THRILL IS : \"+str)\n",
    "if len(str) > 2:\n",
    "    print(\"yes\")\n",
    "    if str.endswith(\"ing\"):\n",
    "        output=str+\"ly\"\n",
    "        print(output)\n",
    "    else:\n",
    "        output = str+\"ING\"\n",
    "        print(output)\n",
    "else:\n",
    "    print(str)\n",
    "        "
   ]
  },
  {
   "cell_type": "code",
   "execution_count": 8,
   "id": "11459652",
   "metadata": {},
   "outputs": [
    {
     "name": "stdout",
     "output_type": "stream",
     "text": [
      "4\n",
      "8\n",
      "hey how is you\n",
      "hey are is you\n"
     ]
    }
   ],
   "source": [
    "str1=\"hey how are you\"\n",
    "a=str1.find(\"how\")\n",
    "print(a)\n",
    "b=str1.find(\"are\")\n",
    "print(b)\n",
    "c=str1.replace(\"are\",\"is\")\n",
    "print(c)\n",
    "d=c.replace(\"how\",\"are\")\n",
    "print(d)"
   ]
  },
  {
   "cell_type": "code",
   "execution_count": 2,
   "id": "98f8ff97",
   "metadata": {},
   "outputs": [
    {
     "name": "stdout",
     "output_type": "stream",
     "text": [
      "yes,it is nested list\n"
     ]
    }
   ],
   "source": [
    "list1=[\"car\",\"bmw\",[\"buggati\",\"volvo\"]]\n",
    "islist= False\n",
    "for a in list1:\n",
    "       if isinstance(a,list):\n",
    "            islist=True\n",
    "            break\n",
    "if islist:\n",
    "       print(\"yes,it is nested list\")\n",
    "else:\n",
    "       print(\"no\")"
   ]
  },
  {
   "cell_type": "code",
   "execution_count": 5,
   "id": "88293330",
   "metadata": {},
   "outputs": [
    {
     "name": "stdout",
     "output_type": "stream",
     "text": [
      "20\n"
     ]
    }
   ],
   "source": [
    "list2=[55,78,15,35,20]\n",
    "if len(list2) >= 2:\n",
    "    list2.sort()\n",
    "    print(list2[1])\n",
    "else:\n",
    "    print(\"length is shortr than 2\")\n",
    "\n",
    "    "
   ]
  },
  {
   "cell_type": "code",
   "execution_count": 10,
   "id": "f44ca73d",
   "metadata": {},
   "outputs": [
    {
     "name": "stdout",
     "output_type": "stream",
     "text": [
      "{59, 34, 26, 78}\n",
      "[59, 34, 26, 78]\n"
     ]
    }
   ],
   "source": [
    "list3=[34,26,78,59,34]\n",
    "set1=set()\n",
    "for x in list3:\n",
    "    set1.add(x)\n",
    "print(set1)\n",
    "list4=[]\n",
    "for x in set1:\n",
    "    list4.append(x)\n",
    "print(list4)    "
   ]
  },
  {
   "cell_type": "markdown",
   "id": "280a5ffb",
   "metadata": {},
   "source": []
  }
 ],
 "metadata": {
  "kernelspec": {
   "display_name": "Python 3 (ipykernel)",
   "language": "python",
   "name": "python3"
  },
  "language_info": {
   "codemirror_mode": {
    "name": "ipython",
    "version": 3
   },
   "file_extension": ".py",
   "mimetype": "text/x-python",
   "name": "python",
   "nbconvert_exporter": "python",
   "pygments_lexer": "ipython3",
   "version": "3.9.12"
  }
 },
 "nbformat": 4,
 "nbformat_minor": 5
}
